{
 "cells": [
  {
   "cell_type": "code",
   "execution_count": 1,
   "id": "dfb7154a-ebdf-4767-a235-51f9c229a183",
   "metadata": {},
   "outputs": [],
   "source": [
    "import numpy as np"
   ]
  },
  {
   "cell_type": "code",
   "execution_count": 16,
   "id": "7f12db2c-4218-4ec1-b57a-d03d1624ea9a",
   "metadata": {},
   "outputs": [],
   "source": [
    "parm_Red_D_C_P  = 117.0                           # carbon:phosphorus\n",
    "parm_Red_D_N_P  =  16.0                           # nitrogen:phosphorus\n",
    "parm_Red_D_O2_P = 170.0                           # oxygen:phosphorus\n",
    "parm_Remin_D_O2_P = 138.0                         # oxygen:phosphorus\n",
    "parm_Red_P_C_P  = parm_Red_D_C_P                     # carbon:phosphorus\n",
    "parm_Red_D_C_N  = parm_Red_D_C_P/parm_Red_D_N_P      # carbon:nitrogen\n",
    "parm_Red_P_C_N  = parm_Red_D_C_N                     # carbon:nitrogen\n",
    "parm_Red_D_C_O2 = parm_Red_D_C_P/parm_Red_D_O2_P     # carbon:oxygen\n",
    "parm_Remin_D_C_O2 = parm_Red_D_C_P/parm_Remin_D_O2_P # carbon:oxygen\n",
    "parm_Red_P_C_O2 = parm_Red_D_C_O2                    # carbon:oxygen\n",
    "parm_Red_Fe_C   = 3.0e-6                          # iron:carbon\n",
    "parm_Red_D_C_O2_diaz = parm_Red_D_C_P/150.0          # carbon:oxygen\n",
    "                                                       # for diazotrophs\n",
    "    \n",
    "denitrif_C_N  = parm_Red_D_C_P / 136.0    "
   ]
  },
  {
   "cell_type": "code",
   "execution_count": 5,
   "id": "4e842c29-e5c8-4875-b13e-03d2782e90fc",
   "metadata": {},
   "outputs": [
    {
     "data": {
      "text/plain": [
       "1.3162393162393162"
      ]
     },
     "execution_count": 5,
     "metadata": {},
     "output_type": "execute_result"
    }
   ],
   "source": [
    "\n",
    "photoC = 1.\n",
    "NO3_V = 1.\n",
    "NH4_V = 1. \n",
    "\n",
    "o2_production_k = photoC * (\n",
    "    (NO3_V / (NO3_V + NH4_V)) / parm_Red_D_C_O2\n",
    "    + (NH4_V / (NO3_V + NH4_V)) / parm_Remin_D_C_O2\n",
    ")\n",
    "o2_production_k"
   ]
  },
  {
   "cell_type": "code",
   "execution_count": 6,
   "id": "8ca31e03-db58-4869-b528-ce1ac70c0ee2",
   "metadata": {},
   "outputs": [
    {
     "data": {
      "text/plain": [
       "0.6882352941176471"
      ]
     },
     "execution_count": 6,
     "metadata": {},
     "output_type": "execute_result"
    }
   ],
   "source": [
    "parm_Red_D_C_O2"
   ]
  },
  {
   "cell_type": "code",
   "execution_count": 7,
   "id": "167a0bf9-b9ab-4ccf-a5f7-735def5189c5",
   "metadata": {},
   "outputs": [
    {
     "data": {
      "text/plain": [
       "0.6882352941176471"
      ]
     },
     "execution_count": 7,
     "metadata": {},
     "output_type": "execute_result"
    }
   ],
   "source": [
    "parm_Red_D_C_O2"
   ]
  },
  {
   "cell_type": "code",
   "execution_count": 8,
   "id": "4b8134cd-f970-4791-8b49-ff874d50ecaf",
   "metadata": {},
   "outputs": [
    {
     "data": {
      "text/plain": [
       "0.6882352941176471"
      ]
     },
     "execution_count": 8,
     "metadata": {},
     "output_type": "execute_result"
    }
   ],
   "source": [
    "117/170"
   ]
  },
  {
   "cell_type": "code",
   "execution_count": 9,
   "id": "bfd0e10d-9c6d-4060-8fde-7a27014f2351",
   "metadata": {},
   "outputs": [
    {
     "data": {
      "text/plain": [
       "0.8478260869565217"
      ]
     },
     "execution_count": 9,
     "metadata": {},
     "output_type": "execute_result"
    }
   ],
   "source": [
    "parm_Remin_D_C_O2"
   ]
  },
  {
   "cell_type": "code",
   "execution_count": 10,
   "id": "7eda449d-9af3-4165-a274-5f6a8ec6c8c2",
   "metadata": {},
   "outputs": [
    {
     "data": {
      "text/plain": [
       "0.8478260869565217"
      ]
     },
     "execution_count": 10,
     "metadata": {},
     "output_type": "execute_result"
    }
   ],
   "source": [
    "117 / 138"
   ]
  },
  {
   "cell_type": "code",
   "execution_count": 11,
   "id": "9e4fac14-b333-4c1b-9f3c-2982fdc5e8be",
   "metadata": {},
   "outputs": [
    {
     "data": {
      "text/plain": [
       "0.78"
      ]
     },
     "execution_count": 11,
     "metadata": {},
     "output_type": "execute_result"
    }
   ],
   "source": [
    "parm_Red_D_C_O2_diaz"
   ]
  },
  {
   "cell_type": "code",
   "execution_count": 12,
   "id": "6144fdb3-99ec-4ff8-9aac-0a18a2956a80",
   "metadata": {},
   "outputs": [
    {
     "data": {
      "text/plain": [
       "0.78"
      ]
     },
     "execution_count": 12,
     "metadata": {},
     "output_type": "execute_result"
    }
   ],
   "source": [
    "117/150"
   ]
  },
  {
   "cell_type": "code",
   "execution_count": 13,
   "id": "795bbfb2-fbc0-48ec-8a54-7e21cbfd51c5",
   "metadata": {},
   "outputs": [
    {
     "data": {
      "text/plain": [
       "1.25"
      ]
     },
     "execution_count": 13,
     "metadata": {},
     "output_type": "execute_result"
    }
   ],
   "source": [
    "1/0.8"
   ]
  },
  {
   "cell_type": "code",
   "execution_count": 15,
   "id": "c3e210b8-e6ae-4d82-9d27-9858d55bdc87",
   "metadata": {},
   "outputs": [
    {
     "data": {
      "text/plain": [
       "0.8602941176470589"
      ]
     },
     "execution_count": 15,
     "metadata": {},
     "output_type": "execute_result"
    }
   ],
   "source": [
    "denitrif_C_N"
   ]
  },
  {
   "cell_type": "code",
   "execution_count": null,
   "id": "72e8b4aa-445e-43da-9751-90fc4f13c30e",
   "metadata": {},
   "outputs": [],
   "source": []
  }
 ],
 "metadata": {
  "kernelspec": {
   "display_name": "Python [conda env:miniconda3-metabolic]",
   "language": "python",
   "name": "conda-env-miniconda3-metabolic-py"
  },
  "language_info": {
   "codemirror_mode": {
    "name": "ipython",
    "version": 3
   },
   "file_extension": ".py",
   "mimetype": "text/x-python",
   "name": "python",
   "nbconvert_exporter": "python",
   "pygments_lexer": "ipython3",
   "version": "3.7.11"
  }
 },
 "nbformat": 4,
 "nbformat_minor": 5
}
